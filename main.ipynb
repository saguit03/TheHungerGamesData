{
 "cells": [
  {
   "cell_type": "code",
   "execution_count": null,
   "id": "bce727f8",
   "metadata": {},
   "outputs": [],
   "source": [
    "from OperacionesCSV import importar_CSV, consultar_atributos\n",
    "from Neo4HungerGames import Neo4HungerGames\n",
    "import pandas as pd\n",
    "from flask import Flask, render_template, redirect, url_for, session, request\n",
    "import os\n",
    "import uuid\n",
    "from Controller import Controller\n",
    "\n",
    "ruta_csv='HungerGames_Characters_Dataset_ALL.csv'"
   ]
  },
  {
   "cell_type": "code",
   "execution_count": 24,
   "id": "e4bf7b97",
   "metadata": {},
   "outputs": [
    {
     "name": "stdout",
     "output_type": "stream",
     "text": [
      "--------------------------------------------\n",
      "Se ha importado el archivo CSV correctamente\n"
     ]
    }
   ],
   "source": [
    "hgDF = importar_CSV(ruta_csv)\n",
    "hgDF['ID'] = hgDF.index\n",
    "\n",
    "uri = \"bolt://localhost:7687\"\n",
    "user = \"mdad\"\n",
    "password = \"123456789\"\n",
    "\n",
    "neoConnection = Neo4HungerGames(uri, user, password)\n",
    "neoConnection.create_nodes_links_from_df(hgDF)"
   ]
  },
  {
   "cell_type": "code",
   "execution_count": 22,
   "id": "e6baea37",
   "metadata": {},
   "outputs": [],
   "source": [
    "app = Flask(__name__)\n",
    "\n",
    "# Ruta principal\n",
    "@app.route('/')\n",
    "def home():\n",
    "    return render_template('index.html')\n",
    "\n",
    "\n",
    "@app.route('/characters', methods=['GET'])\n",
    "def characters():\n",
    "    return render_template('characters.html')\n",
    "\n",
    "@app.route('/characters/all', methods=['GET'])\n",
    "def all_characters():\n",
    "    characters = neoConnection.get_all_characters()\n",
    "    return render_template('characters_list.html', characters=characters)\n",
    "\n",
    "@app.route('/characters/create', methods=['POST'])\n",
    "def create_character():\n",
    "    return Controller.create_character(neoConnection, request=request)\n"
   ]
  },
  {
   "cell_type": "code",
   "execution_count": null,
   "id": "1729c2d7",
   "metadata": {},
   "outputs": [
    {
     "name": "stdout",
     "output_type": "stream",
     "text": [
      " * Serving Flask app '__main__'\n",
      " * Debug mode: on\n"
     ]
    },
    {
     "name": "stderr",
     "output_type": "stream",
     "text": [
      "WARNING: This is a development server. Do not use it in a production deployment. Use a production WSGI server instead.\n",
      " * Running on all addresses (0.0.0.0)\n",
      " * Running on http://127.0.0.1:8080\n",
      " * Running on http://158.49.188.38:8080\n",
      "Press CTRL+C to quit\n",
      "127.0.0.1 - - [12/May/2025 18:13:33] \"GET /characters HTTP/1.1\" 200 -\n",
      "127.0.0.1 - - [12/May/2025 18:13:37] \"GET /characters/all HTTP/1.1\" 200 -\n",
      "127.0.0.1 - - [12/May/2025 18:13:43] \"GET /characters/all HTTP/1.1\" 200 -\n",
      "127.0.0.1 - - [12/May/2025 18:13:47] \"GET / HTTP/1.1\" 200 -\n",
      "127.0.0.1 - - [12/May/2025 18:13:48] \"GET /characters HTTP/1.1\" 200 -\n",
      "127.0.0.1 - - [12/May/2025 18:13:49] \"GET /characters/all HTTP/1.1\" 200 -\n",
      "127.0.0.1 - - [12/May/2025 18:13:52] \"GET / HTTP/1.1\" 200 -\n",
      "127.0.0.1 - - [12/May/2025 18:13:54] \"GET /characters HTTP/1.1\" 200 -\n",
      "127.0.0.1 - - [12/May/2025 18:13:56] \"GET /characters/272 HTTP/1.1\" 404 -\n",
      "127.0.0.1 - - [12/May/2025 18:14:08] \"GET /characters/all HTTP/1.1\" 200 -\n"
     ]
    }
   ],
   "source": [
    "if __name__ == '__main__':\n",
    "    app.run(debug=True, host=\"0.0.0.0\", port=8080,use_reloader=False)"
   ]
  }
 ],
 "metadata": {
  "kernelspec": {
   "display_name": "Python 3",
   "language": "python",
   "name": "python3"
  },
  "language_info": {
   "codemirror_mode": {
    "name": "ipython",
    "version": 3
   },
   "file_extension": ".py",
   "mimetype": "text/x-python",
   "name": "python",
   "nbconvert_exporter": "python",
   "pygments_lexer": "ipython3",
   "version": "3.12.7"
  }
 },
 "nbformat": 4,
 "nbformat_minor": 5
}
