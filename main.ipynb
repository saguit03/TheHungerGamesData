{
 "cells": [
  {
   "cell_type": "code",
   "id": "bce727f8",
   "metadata": {
    "ExecuteTime": {
     "end_time": "2025-05-13T16:20:09.169354Z",
     "start_time": "2025-05-13T16:20:08.114447Z"
    }
   },
   "source": [
    "from OperacionesCSV import importar_CSV\n",
    "from Neo4HungerGames import Neo4HungerGames\n",
    "from Neo4Dataframes import Neo4Dataframes\n",
    "import pandas as pd\n",
    "from flask import Flask, render_template, redirect, url_for, session, request\n",
    "import os\n",
    "import uuid\n",
    "from Controller import Controller"
   ],
   "outputs": [],
   "execution_count": 1
  },
  {
   "cell_type": "code",
   "id": "e4bf7b97",
   "metadata": {
    "ExecuteTime": {
     "end_time": "2025-05-13T16:20:09.901197Z",
     "start_time": "2025-05-13T16:20:09.896037Z"
    }
   },
   "source": [
    "uri = \"bolt://localhost:7687\"\n",
    "user = \"mdad\"\n",
    "password = \"123456789\"\n",
    "\n",
    "neoConnection = Neo4HungerGames(uri, user, password)"
   ],
   "outputs": [],
   "execution_count": 2
  },
  {
   "cell_type": "code",
   "id": "af7a102f",
   "metadata": {
    "ExecuteTime": {
     "end_time": "2025-05-13T16:20:22.376627Z",
     "start_time": "2025-05-13T16:20:11.930399Z"
    }
   },
   "source": [
    "ruta_csv='HungerGames_Characters_Dataset_ALL.csv'\n",
    "\n",
    "hgDF = importar_CSV(ruta_csv)\n",
    "hgDF['ID'] = hgDF.index\n",
    "dataConnection = Neo4Dataframes(uri, user, password)\n",
    "dataConnection.create_nodes_links_from_df(hgDF)\n",
    "dataConnection.close()"
   ],
   "outputs": [
    {
     "name": "stdout",
     "output_type": "stream",
     "text": [
      "--------------------------------------------\n"
     ]
    }
   ],
   "execution_count": 3
  },
  {
   "cell_type": "code",
   "id": "e6baea37",
   "metadata": {
    "ExecuteTime": {
     "end_time": "2025-05-13T16:21:28.043497Z",
     "start_time": "2025-05-13T16:21:28.033603Z"
    }
   },
   "source": [
    "app = Flask(__name__)\n",
    "\n",
    "# Ruta principal\n",
    "@app.route('/')\n",
    "def home():\n",
    "    return render_template('index.html')\n",
    "\n",
    "@app.route('/characters', methods=['GET'])\n",
    "def characters():\n",
    "    districts = neoConnection.get_all_districts()\n",
    "    return render_template('characters.html', districts=districts)\n",
    "\n",
    "@app.route('/characters/all', methods=['GET'])\n",
    "def all_characters():\n",
    "    characters = neoConnection.get_all_characters()\n",
    "    return render_template('characters_list.html', characters=characters)\n",
    "\n",
    "@app.route('/characters/create', methods=['POST'])\n",
    "def create_character():\n",
    "    return Controller.create_character(neoConnection, request=request)\n",
    "\n",
    "@app.route(\"/characters/link_game\", methods=[\"GET\", \"POST\"])\n",
    "def link_character_game():\n",
    "    return Controller.link_character_game(neoConnection, request=request)\n",
    "\n",
    "@app.route(\"/characters/update/<id>\", methods=[\"GET\", \"POST\"])\n",
    "def update_character(id):\n",
    "    return Controller.update_character(neoConnection, request, id)\n",
    "\n",
    "@app.route(\"/characters/delete\", methods=[\"POST\"])\n",
    "def delete_character():\n",
    "    return Controller.delete_character(neoConnection, request)\n"
   ],
   "outputs": [],
   "execution_count": 4
  },
  {
   "cell_type": "code",
   "id": "1729c2d7",
   "metadata": {
    "ExecuteTime": {
     "end_time": "2025-05-13T16:22:16.154264Z",
     "start_time": "2025-05-13T16:21:29.249006Z"
    }
   },
   "source": [
    "if __name__ == '__main__':\n",
    "    app.run(debug=True, host=\"0.0.0.0\", port=8080,use_reloader=False)"
   ],
   "outputs": [
    {
     "name": "stdout",
     "output_type": "stream",
     "text": [
      " * Serving Flask app '__main__'\n",
      " * Debug mode: on\n"
     ]
    },
    {
     "name": "stderr",
     "output_type": "stream",
     "text": [
      "WARNING: This is a development server. Do not use it in a production deployment. Use a production WSGI server instead.\n",
      " * Running on all addresses (0.0.0.0)\n",
      " * Running on http://127.0.0.1:8080\n",
      " * Running on http://192.168.1.38:8080\n",
      "Press CTRL+C to quit\n",
      "127.0.0.1 - - [13/May/2025 18:21:41] \"POST /characters/create HTTP/1.1\" 302 -\n"
     ]
    },
    {
     "name": "stdout",
     "output_type": "stream",
     "text": [
      "{'ID': '273', 'Name': 'aaaaaaaaa', 'Gender': 'M', 'Profession': ''}\n"
     ]
    },
    {
     "name": "stderr",
     "output_type": "stream",
     "text": [
      "127.0.0.1 - - [13/May/2025 18:21:41] \"GET /characters/all HTTP/1.1\" 200 -\n",
      "127.0.0.1 - - [13/May/2025 18:21:42] \"GET /static/list.css HTTP/1.1\" 304 -\n"
     ]
    }
   ],
   "execution_count": 5
  },
  {
   "metadata": {},
   "cell_type": "code",
   "outputs": [],
   "execution_count": null,
   "source": "",
   "id": "af639f89750616a9"
  }
 ],
 "metadata": {
  "kernelspec": {
   "display_name": "Python 3",
   "language": "python",
   "name": "python3"
  },
  "language_info": {
   "codemirror_mode": {
    "name": "ipython",
    "version": 3
   },
   "file_extension": ".py",
   "mimetype": "text/x-python",
   "name": "python",
   "nbconvert_exporter": "python",
   "pygments_lexer": "ipython3",
   "version": "3.12.6"
  }
 },
 "nbformat": 4,
 "nbformat_minor": 5
}
