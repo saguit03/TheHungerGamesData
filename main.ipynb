{
 "cells": [
  {
   "cell_type": "code",
   "execution_count": 1,
   "id": "bce727f8",
   "metadata": {},
   "outputs": [],
   "source": [
    "from OperacionesCSV import importar_CSV\n",
    "from Neo4HungerGames import Neo4HungerGames\n",
    "import pandas as pd\n",
    "from flask import Flask, render_template, redirect, url_for, session, request\n",
    "import os\n",
    "import uuid\n",
    "from Controller import Controller\n",
    "\n",
    "ruta_csv='HungerGames_Characters_Dataset_ALL.csv'"
   ]
  },
  {
   "cell_type": "code",
   "execution_count": 2,
   "id": "e4bf7b97",
   "metadata": {},
   "outputs": [],
   "source": [
    "uri = \"bolt://localhost:7687\"\n",
    "user = \"mdad\"\n",
    "password = \"123456789\"\n",
    "\n",
    "neoConnection = Neo4HungerGames(uri, user, password)"
   ]
  },
  {
   "cell_type": "code",
   "execution_count": 5,
   "id": "af7a102f",
   "metadata": {},
   "outputs": [
    {
     "name": "stdout",
     "output_type": "stream",
     "text": [
      "--------------------------------------------\n"
     ]
    }
   ],
   "source": [
    "hgDF = importar_CSV(ruta_csv)\n",
    "hgDF['ID'] = hgDF.index\n",
    "\n",
    "neoConnection.create_nodes_links_from_df(hgDF)"
   ]
  },
  {
   "cell_type": "code",
   "execution_count": 4,
   "id": "2a75fbd8",
   "metadata": {},
   "outputs": [],
   "source": [
    "neoConnection.delete_all_nodes()\n",
    "neoConnection.close()"
   ]
  },
  {
   "cell_type": "code",
   "execution_count": null,
   "id": "e6baea37",
   "metadata": {},
   "outputs": [],
   "source": [
    "app = Flask(__name__)\n",
    "\n",
    "# Ruta principal\n",
    "@app.route('/')\n",
    "def home():\n",
    "    return render_template('index.html')\n",
    "\n",
    "@app.route('/characters', methods=['GET'])\n",
    "def characters():\n",
    "    districts = neoConnection.get_all_districts()\n",
    "    return render_template('characters.html', districts=districts)\n",
    "\n",
    "@app.route('/characters/all', methods=['GET'])\n",
    "def all_characters():\n",
    "    characters = neoConnection.get_all_characters()\n",
    "    return render_template('characters_list.html', characters=characters)\n",
    "\n",
    "@app.route('/characters/create', methods=['POST'])\n",
    "def create_character():\n",
    "    return Controller.create_character(neoConnection, request=request)\n",
    "\n",
    "@app.route(\"/characters/link_game\", methods=[\"GET\", \"POST\"])\n",
    "def link_character_game():\n",
    "    return Controller.link_character_game(neoConnection, request=request)\n",
    "\n",
    "@app.route(\"/characters/update/<id>\", methods=[\"GET\", \"POST\"])\n",
    "def update_character(id):\n",
    "    return Controller.update_character(neoConnection, request, id)\n",
    "\n",
    "@app.route(\"/characters/delete\", methods=[\"POST\"])\n",
    "def delete_character():\n",
    "    return Controller.delete_character(neoConnection, request)\n"
   ]
  },
  {
   "cell_type": "code",
   "execution_count": 4,
   "id": "1729c2d7",
   "metadata": {},
   "outputs": [
    {
     "name": "stdout",
     "output_type": "stream",
     "text": [
      " * Serving Flask app '__main__'\n",
      " * Debug mode: on\n"
     ]
    },
    {
     "name": "stderr",
     "output_type": "stream",
     "text": [
      "WARNING: This is a development server. Do not use it in a production deployment. Use a production WSGI server instead.\n",
      " * Running on all addresses (0.0.0.0)\n",
      " * Running on http://127.0.0.1:8080\n",
      " * Running on http://192.168.1.38:8080\n",
      "Press CTRL+C to quit\n",
      "127.0.0.1 - - [13/May/2025 00:34:35] \"GET / HTTP/1.1\" 200 -\n",
      "127.0.0.1 - - [13/May/2025 00:34:35] \"GET /static/style.css HTTP/1.1\" 200 -\n",
      "127.0.0.1 - - [13/May/2025 00:34:41] \"GET /characters HTTP/1.1\" 200 -\n",
      "127.0.0.1 - - [13/May/2025 00:34:41] \"GET /static/style.css HTTP/1.1\" 304 -\n",
      "127.0.0.1 - - [13/May/2025 00:34:55] \"GET /characters/all HTTP/1.1\" 200 -\n",
      "127.0.0.1 - - [13/May/2025 00:34:55] \"GET /static/list.css HTTP/1.1\" 200 -\n",
      "c:\\Users\\sarag\\anaconda3\\Lib\\site-packages\\neo4j\\_sync\\work\\result.py:625: UserWarning: Expected a result with a single record, but found multiple.\n",
      "  warn(\n",
      "127.0.0.1 - - [13/May/2025 00:35:55] \"GET /characters/update/155 HTTP/1.1\" 200 -\n",
      "127.0.0.1 - - [13/May/2025 00:35:55] \"GET /static/style.css HTTP/1.1\" 200 -\n",
      "127.0.0.1 - - [13/May/2025 00:36:04] \"POST /characters/update HTTP/1.1\" 404 -\n",
      "127.0.0.1 - - [13/May/2025 00:36:24] \"GET /characters/update/155 HTTP/1.1\" 200 -\n",
      "127.0.0.1 - - [13/May/2025 00:36:24] \"GET /static/style.css HTTP/1.1\" 304 -\n",
      "127.0.0.1 - - [13/May/2025 00:36:25] \"POST /characters/update/<character_id> HTTP/1.1\" 302 -\n",
      "127.0.0.1 - - [13/May/2025 00:36:25] \"GET /characters/all HTTP/1.1\" 200 -\n",
      "127.0.0.1 - - [13/May/2025 00:36:25] \"GET /static/list.css HTTP/1.1\" 200 -\n",
      "127.0.0.1 - - [13/May/2025 00:36:27] \"GET /characters/update/0 HTTP/1.1\" 200 -\n",
      "127.0.0.1 - - [13/May/2025 00:36:27] \"GET /static/style.css HTTP/1.1\" 304 -\n",
      "127.0.0.1 - - [13/May/2025 00:36:33] \"POST /characters/update/<character_id> HTTP/1.1\" 302 -\n",
      "127.0.0.1 - - [13/May/2025 00:36:33] \"GET /characters/all HTTP/1.1\" 200 -\n",
      "127.0.0.1 - - [13/May/2025 00:36:33] \"GET /static/list.css HTTP/1.1\" 304 -\n",
      "127.0.0.1 - - [13/May/2025 00:36:40] \"GET /characters/all HTTP/1.1\" 200 -\n",
      "127.0.0.1 - - [13/May/2025 00:36:40] \"GET /static/list.css HTTP/1.1\" 304 -\n",
      "127.0.0.1 - - [13/May/2025 00:36:41] \"GET /characters/all HTTP/1.1\" 200 -\n",
      "127.0.0.1 - - [13/May/2025 00:36:41] \"GET /static/list.css HTTP/1.1\" 304 -\n",
      "127.0.0.1 - - [13/May/2025 00:36:42] \"GET /characters/update/0 HTTP/1.1\" 200 -\n",
      "127.0.0.1 - - [13/May/2025 00:36:42] \"GET /static/style.css HTTP/1.1\" 304 -\n",
      "127.0.0.1 - - [13/May/2025 00:36:45] \"POST /characters/update/<character_id> HTTP/1.1\" 302 -\n",
      "127.0.0.1 - - [13/May/2025 00:36:45] \"GET /characters/all HTTP/1.1\" 200 -\n",
      "127.0.0.1 - - [13/May/2025 00:36:45] \"GET /static/list.css HTTP/1.1\" 304 -\n",
      "127.0.0.1 - - [13/May/2025 00:36:48] \"GET /characters/all HTTP/1.1\" 200 -\n",
      "127.0.0.1 - - [13/May/2025 00:36:48] \"GET /static/list.css HTTP/1.1\" 304 -\n",
      "127.0.0.1 - - [13/May/2025 00:36:49] \"GET /characters/all HTTP/1.1\" 200 -\n",
      "127.0.0.1 - - [13/May/2025 00:36:49] \"GET /static/list.css HTTP/1.1\" 304 -\n",
      "127.0.0.1 - - [13/May/2025 00:36:49] \"GET /characters/all HTTP/1.1\" 200 -\n",
      "127.0.0.1 - - [13/May/2025 00:36:49] \"GET /static/list.css HTTP/1.1\" 304 -\n",
      "127.0.0.1 - - [13/May/2025 00:36:49] \"GET /characters/all HTTP/1.1\" 200 -\n",
      "127.0.0.1 - - [13/May/2025 00:36:49] \"GET /static/list.css HTTP/1.1\" 304 -\n",
      "127.0.0.1 - - [13/May/2025 00:36:51] \"GET /characters/all HTTP/1.1\" 200 -\n",
      "127.0.0.1 - - [13/May/2025 00:36:51] \"GET /static/list.css HTTP/1.1\" 304 -\n",
      "127.0.0.1 - - [13/May/2025 00:36:51] \"GET /characters/all HTTP/1.1\" 200 -\n",
      "127.0.0.1 - - [13/May/2025 00:36:51] \"GET /static/list.css HTTP/1.1\" 304 -\n",
      "127.0.0.1 - - [13/May/2025 00:36:52] \"GET /characters/all HTTP/1.1\" 200 -\n",
      "127.0.0.1 - - [13/May/2025 00:36:52] \"GET /static/list.css HTTP/1.1\" 304 -\n",
      "127.0.0.1 - - [13/May/2025 00:36:52] \"GET /characters/all HTTP/1.1\" 200 -\n",
      "127.0.0.1 - - [13/May/2025 00:36:52] \"GET /static/list.css HTTP/1.1\" 304 -\n",
      "127.0.0.1 - - [13/May/2025 00:36:52] \"GET /characters/all HTTP/1.1\" 200 -\n",
      "127.0.0.1 - - [13/May/2025 00:36:52] \"GET /static/list.css HTTP/1.1\" 304 -\n",
      "127.0.0.1 - - [13/May/2025 00:36:52] \"GET /characters/all HTTP/1.1\" 200 -\n",
      "127.0.0.1 - - [13/May/2025 00:36:52] \"GET /static/list.css HTTP/1.1\" 304 -\n"
     ]
    },
    {
     "ename": "",
     "evalue": "",
     "output_type": "error",
     "traceback": [
      "\u001b[1;31mThe Kernel crashed while executing code in the current cell or a previous cell. \n",
      "\u001b[1;31mPlease review the code in the cell(s) to identify a possible cause of the failure. \n",
      "\u001b[1;31mClick <a href='https://aka.ms/vscodeJupyterKernelCrash'>here</a> for more info. \n",
      "\u001b[1;31mView Jupyter <a href='command:jupyter.viewOutput'>log</a> for further details."
     ]
    }
   ],
   "source": [
    "if __name__ == '__main__':\n",
    "    app.run(debug=True, host=\"0.0.0.0\", port=8080,use_reloader=False)"
   ]
  },
  {
   "cell_type": "code",
   "execution_count": null,
   "id": "48c8fada",
   "metadata": {},
   "outputs": [],
   "source": []
  }
 ],
 "metadata": {
  "kernelspec": {
   "display_name": "Python 3",
   "language": "python",
   "name": "python3"
  },
  "language_info": {
   "codemirror_mode": {
    "name": "ipython",
    "version": 3
   },
   "file_extension": ".py",
   "mimetype": "text/x-python",
   "name": "python",
   "nbconvert_exporter": "python",
   "pygments_lexer": "ipython3",
   "version": "3.12.7"
  }
 },
 "nbformat": 4,
 "nbformat_minor": 5
}
