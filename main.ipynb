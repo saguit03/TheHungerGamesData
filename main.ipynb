{
 "cells": [
  {
   "cell_type": "code",
   "execution_count": null,
   "id": "bce727f8",
   "metadata": {
    "ExecuteTime": {
     "end_time": "2025-05-13T17:21:00.088729Z",
     "start_time": "2025-05-13T17:20:58.936246Z"
    }
   },
   "outputs": [],
   "source": [
    "from OperacionesCSV import importar_CSV\n",
    "from Neo4HungerGames import Neo4HungerGames\n",
    "from Neo4Dataframes import Neo4Dataframes\n",
    "from Neo4Graphics import Neo4Graphics\n",
    "import pandas as pd\n",
    "from flask import Flask, render_template, request, Response\n",
    "from Controller import Controller\n",
    "\n",
    "import base64\n",
    "def encode_image(response):\n",
    "    return base64.b64encode(response.get_data()).decode(\"utf-8\")"
   ]
  },
  {
   "cell_type": "code",
   "execution_count": null,
   "id": "e4bf7b97",
   "metadata": {
    "ExecuteTime": {
     "end_time": "2025-05-13T17:21:00.095559Z",
     "start_time": "2025-05-13T17:21:00.090540Z"
    }
   },
   "outputs": [],
   "source": [
    "uri = \"bolt://localhost:7687\"\n",
    "user = \"mdad\"\n",
    "password = \"123456789\"\n",
    "neoConnection = Neo4HungerGames(uri, user, password)"
   ]
  },
  {
   "cell_type": "code",
   "execution_count": null,
   "id": "e6baea37",
   "metadata": {
    "ExecuteTime": {
     "end_time": "2025-05-13T17:21:09.591482Z",
     "start_time": "2025-05-13T17:21:09.580302Z"
    }
   },
   "outputs": [],
   "source": [
    "app = Flask(__name__)\n",
    "graphs = Neo4Graphics(neoConnection)\n",
    "# Ruta principal\n",
    "@app.route('/')\n",
    "def home():\n",
    "    return render_template('index.html')\n",
    "\n",
    "@app.route('/characters', methods=['GET'])\n",
    "def characters():\n",
    "    districts = neoConnection.get_all_districts()\n",
    "    return render_template('characters.html', districts=districts)\n",
    "\n",
    "@app.route('/characters/all', methods=['GET'])\n",
    "def all_characters():\n",
    "    characters = neoConnection.get_all_characters()\n",
    "    return render_template('characters_list.html', characters=characters)\n",
    "\n",
    "@app.route('/characters/create', methods=['POST'])\n",
    "def create_character():\n",
    "    return Controller.create_character(neoConnection, request=request)\n",
    "\n",
    "@app.route(\"/characters/link_game\", methods=[\"GET\", \"POST\"])\n",
    "def link_character_game():\n",
    "    return Controller.link_character_game(neoConnection, request=request)\n",
    "\n",
    "@app.route(\"/characters/update/<int:character_id>\", methods=[\"GET\"])\n",
    "def edit_character_form(character_id):\n",
    "    character = neoConnection.get_character_by_id(character_id)\n",
    "    return render_template(\"update_character.html\", character=character, character_id=character_id)\n",
    "\n",
    "@app.route(\"/characters/update/<int:character_id>\", methods=[\"POST\"])\n",
    "def update_character(character_id):\n",
    "    return Controller.update_character(neoConnection, request, character_id)\n",
    "\n",
    "@app.route(\"/characters/delete\", methods=[\"POST\"])\n",
    "def delete_character():\n",
    "    return Controller.delete_character(neoConnection, request)\n",
    "\n",
    "@app.route(\"/characters/delete/<character_id>\", methods=[\"POST\"])\n",
    "def delete_character_by_id(character_id):\n",
    "    return Controller.delete_character_by_id(neoConnection, character_id)\n",
    "\n",
    "@app.route(\"/characters/link_family\", methods=[\"GET\"])\n",
    "def show_family_link_form():\n",
    "    characters = neoConnection.get_all_characters_id_and_name()\n",
    "    return render_template(\"link_family.html\", characters=characters)\n",
    "\n",
    "@app.route(\"/characters/link_family\", methods=[\"POST\"])\n",
    "def create_family_link():\n",
    "    return Controller.create_family_link(neoConnection, request)\n",
    "\n",
    "@app.route(\"/characters/family/all\")\n",
    "def get_all_family_links():\n",
    "    return Controller.get_all_family_links(neoConnection)\n",
    "\n",
    "@app.route(\"/characters/family/delete\", methods=[\"POST\"])\n",
    "def delete_family_link():\n",
    "    return Controller.delete_family_link(neoConnection, request.form)\n",
    "\n",
    "@app.route(\"/links\", methods=[\"GET\"])\n",
    "def list_links():\n",
    "    return Controller.list_links(neoConnection)\n",
    "\n",
    "@app.route(\"/links/delete\", methods=[\"POST\"])\n",
    "def delete_link():\n",
    "    return Controller.delete_link(neoConnection, request.form)\n",
    "\n",
    "\n",
    "@app.route(\"/histograms\", methods=[\"GET\"])\n",
    "def histograms():\n",
    "    books = encode_image(graphs.characters_per_book())\n",
    "    districts = encode_image(graphs.characters_per_district())\n",
    "    alliances = encode_image(graphs.characters_per_alliance())\n",
    "    games = encode_image(graphs.characters_per_game())\n",
    "    kills = encode_image(graphs.kills_per_cause())\n",
    "\n",
    "    return render_template(\"histograms.html\",\n",
    "                           books=books,\n",
    "                           districts=districts,\n",
    "                           alliances=alliances,\n",
    "                           games=games,\n",
    "                           kills=kills)\n",
    "\n",
    "@app.route(\"/characters/other_books\", methods=[\"GET\", \"POST\"])\n",
    "def characters_other_books():\n",
    "    books = neoConnection.get_all_books()  # Para popular el select en HTML\n",
    "    if request.method == \"POST\":\n",
    "        title = request.form.get(\"title\")\n",
    "        characters = neoConnection.get_characters_from_other_books(title)\n",
    "        return render_template(\"characters_other_books.html\", books=books, characters=characters, selected_title=title)\n",
    "    return render_template(\"characters_other_books.html\", books=books, characters=None, selected_title=None)\n",
    "\n",
    "@app.route(\"/books\", methods=[\"GET\", \"POST\"])\n",
    "def book_characters():\n",
    "    books = neoConnection.get_all_books()  # Para popular el select en HTML\n",
    "    if request.method == \"POST\":\n",
    "        title = request.form.get(\"title\")\n",
    "        characters = neoConnection.get_characters_from_a_book(title)\n",
    "        return render_template(\"book_characters.html\", books=books, characters=characters, selected_title=title)\n",
    "    return render_template(\"book_characters.html\", books=books, characters=None, selected_title=None)\n",
    "\n",
    "\n",
    "if __name__ == '__main__':\n",
    "    app.run(debug=True, host=\"0.0.0.0\", port=8080,use_reloader=False)"
   ]
  },
  {
   "cell_type": "code",
   "execution_count": null,
   "id": "af639f89750616a9",
   "metadata": {
    "jupyter": {
     "is_executing": true
    }
   },
   "outputs": [],
   "source": [
    "neoConnection.close()"
   ]
  },
  {
   "cell_type": "code",
   "execution_count": null,
   "id": "08404cbc",
   "metadata": {},
   "outputs": [],
   "source": [
    "ruta_csv='HungerGames_Characters_Dataset_ALL.csv'\n",
    "\n",
    "hgDF = importar_CSV(ruta_csv)\n",
    "hgDF['ID'] = hgDF.index\n",
    "dataConnection = Neo4Dataframes(uri, user, password)\n",
    "dataConnection.delete_all_links_and_nodes()\n",
    "dataConnection.create_nodes_links_from_df(hgDF)\n",
    "dataConnection.close()"
   ]
  }
 ],
 "metadata": {
  "kernelspec": {
   "display_name": "Python 3",
   "language": "python",
   "name": "python3"
  },
  "language_info": {
   "codemirror_mode": {
    "name": "ipython",
    "version": 3
   },
   "file_extension": ".py",
   "mimetype": "text/x-python",
   "name": "python",
   "nbconvert_exporter": "python",
   "pygments_lexer": "ipython3",
   "version": "3.12.7"
  }
 },
 "nbformat": 4,
 "nbformat_minor": 5
}
