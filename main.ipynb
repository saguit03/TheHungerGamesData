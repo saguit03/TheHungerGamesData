{
 "cells": [
  {
   "cell_type": "code",
   "execution_count": 1,
   "id": "bce727f8",
   "metadata": {
    "ExecuteTime": {
     "end_time": "2025-05-13T17:21:00.088729Z",
     "start_time": "2025-05-13T17:20:58.936246Z"
    }
   },
   "outputs": [],
   "source": [
    "from OperacionesCSV import importar_CSV\n",
    "from Neo4HungerGames import Neo4HungerGames\n",
    "from Neo4Dataframes import Neo4Dataframes\n",
    "import pandas as pd\n",
    "from flask import Flask, render_template, redirect, url_for, session, request\n",
    "import os\n",
    "import uuid\n",
    "from Controller import Controller"
   ]
  },
  {
   "cell_type": "code",
   "execution_count": 2,
   "id": "e4bf7b97",
   "metadata": {
    "ExecuteTime": {
     "end_time": "2025-05-13T17:21:00.095559Z",
     "start_time": "2025-05-13T17:21:00.090540Z"
    }
   },
   "outputs": [],
   "source": [
    "uri = \"bolt://localhost:7687\"\n",
    "user = \"mdad\"\n",
    "password = \"123456789\""
   ]
  },
  {
   "cell_type": "code",
   "execution_count": 5,
   "id": "af7a102f",
   "metadata": {
    "ExecuteTime": {
     "end_time": "2025-05-13T17:21:09.578790Z",
     "start_time": "2025-05-13T17:21:00.096634Z"
    }
   },
   "outputs": [
    {
     "name": "stdout",
     "output_type": "stream",
     "text": [
      "--------------------------------------------\n"
     ]
    }
   ],
   "source": [
    "ruta_csv='HungerGames_Characters_Dataset_ALL.csv'\n",
    "\n",
    "hgDF = importar_CSV(ruta_csv)\n",
    "hgDF['ID'] = hgDF.index\n",
    "dataConnection = Neo4Dataframes(uri, user, password)\n",
    "dataConnection.create_nodes_links_from_df(hgDF)"
   ]
  },
  {
   "cell_type": "code",
   "execution_count": 6,
   "id": "e6baea37",
   "metadata": {
    "ExecuteTime": {
     "end_time": "2025-05-13T17:21:09.591482Z",
     "start_time": "2025-05-13T17:21:09.580302Z"
    }
   },
   "outputs": [],
   "source": [
    "app = Flask(__name__)\n",
    "neoConnection = Neo4HungerGames(uri, user, password)\n",
    "\n",
    "# Ruta principal\n",
    "@app.route('/')\n",
    "def home():\n",
    "    return render_template('index.html')\n",
    "\n",
    "@app.route('/characters', methods=['GET'])\n",
    "def characters():\n",
    "    districts = neoConnection.get_all_districts()\n",
    "    return render_template('characters.html', districts=districts)\n",
    "\n",
    "@app.route('/characters/all', methods=['GET'])\n",
    "def all_characters():\n",
    "    characters = neoConnection.get_all_characters()\n",
    "    return render_template('characters_list.html', characters=characters)\n",
    "\n",
    "@app.route('/characters/create', methods=['POST'])\n",
    "def create_character():\n",
    "    return Controller.create_character(neoConnection, request=request)\n",
    "\n",
    "@app.route(\"/characters/link_game\", methods=[\"GET\", \"POST\"])\n",
    "def link_character_game():\n",
    "    return Controller.link_character_game(neoConnection, request=request)\n",
    "\n",
    "@app.route(\"/characters/update/<int:character_id>\", methods=[\"GET\"])\n",
    "def edit_character_form(character_id):\n",
    "    character = neoConnection.get_character_by_id(character_id)\n",
    "    return render_template(\"update_character.html\", character=character, character_id=character_id)\n",
    "\n",
    "@app.route(\"/characters/update/<int:character_id>\", methods=[\"POST\"])\n",
    "def update_character(character_id):\n",
    "    return Controller.update_character(neoConnection, request, character_id)\n",
    "\n",
    "@app.route(\"/characters/delete\", methods=[\"POST\"])\n",
    "def delete_character():\n",
    "    return Controller.delete_character(neoConnection, request)\n",
    "\n",
    "@app.route(\"/characters/delete/<character_id>\", methods=[\"POST\"])\n",
    "def delete_character_by_id(character_id):\n",
    "    return Controller.delete_character_by_id(neoConnection, character_id)\n",
    "\n"
   ]
  },
  {
   "cell_type": "code",
   "execution_count": 4,
   "id": "1729c2d7",
   "metadata": {
    "ExecuteTime": {
     "start_time": "2025-05-13T17:21:09.593507Z"
    },
    "jupyter": {
     "is_executing": true
    }
   },
   "outputs": [
    {
     "name": "stdout",
     "output_type": "stream",
     "text": [
      " * Serving Flask app '__main__'\n",
      " * Debug mode: on\n"
     ]
    },
    {
     "name": "stderr",
     "output_type": "stream",
     "text": [
      "WARNING: This is a development server. Do not use it in a production deployment. Use a production WSGI server instead.\n",
      " * Running on all addresses (0.0.0.0)\n",
      " * Running on http://127.0.0.1:8080\n",
      " * Running on http://192.168.1.38:8080\n",
      "Press CTRL+C to quit\n",
      "127.0.0.1 - - [13/May/2025 20:17:09] \"GET / HTTP/1.1\" 200 -\n",
      "127.0.0.1 - - [13/May/2025 20:17:09] \"GET /static/style.css HTTP/1.1\" 304 -\n",
      "127.0.0.1 - - [13/May/2025 20:17:12] \"GET /characters HTTP/1.1\" 200 -\n",
      "127.0.0.1 - - [13/May/2025 20:17:12] \"GET /static/style.css HTTP/1.1\" 304 -\n",
      "127.0.0.1 - - [13/May/2025 20:17:14] \"GET /characters/all HTTP/1.1\" 200 -\n",
      "127.0.0.1 - - [13/May/2025 20:17:14] \"GET /static/list.css HTTP/1.1\" 304 -\n",
      "127.0.0.1 - - [13/May/2025 20:17:15] \"GET /characters/delete/199 HTTP/1.1\" 405 -\n",
      "127.0.0.1 - - [13/May/2025 20:17:33] \"GET /characters/delete/115 HTTP/1.1\" 405 -\n",
      "127.0.0.1 - - [13/May/2025 20:19:29] \"GET /characters/all HTTP/1.1\" 200 -\n",
      "127.0.0.1 - - [13/May/2025 20:19:29] \"GET /static/list.css HTTP/1.1\" 304 -\n",
      "c:\\Users\\sarag\\anaconda3\\Lib\\site-packages\\neo4j\\_sync\\work\\result.py:625: UserWarning: Expected a result with a single record, but found multiple.\n",
      "  warn(\n",
      "127.0.0.1 - - [13/May/2025 20:19:30] \"GET /characters/update/199 HTTP/1.1\" 200 -\n",
      "127.0.0.1 - - [13/May/2025 20:19:30] \"GET /static/style.css HTTP/1.1\" 304 -\n",
      "127.0.0.1 - - [13/May/2025 20:19:35] \"POST /characters/update/<character_id> HTTP/1.1\" 404 -\n",
      "127.0.0.1 - - [13/May/2025 20:19:51] \"POST /characters/update/<character_id> HTTP/1.1\" 404 -\n",
      "127.0.0.1 - - [13/May/2025 20:20:26] \"GET /characters/update/199 HTTP/1.1\" 200 -\n",
      "127.0.0.1 - - [13/May/2025 20:20:26] \"GET /static/style.css HTTP/1.1\" 304 -\n",
      "127.0.0.1 - - [13/May/2025 20:20:30] \"POST /characters/update/199 HTTP/1.1\" 302 -\n",
      "127.0.0.1 - - [13/May/2025 20:20:30] \"GET /characters/all HTTP/1.1\" 200 -\n",
      "127.0.0.1 - - [13/May/2025 20:20:30] \"GET /static/list.css HTTP/1.1\" 304 -\n"
     ]
    }
   ],
   "source": [
    "if __name__ == '__main__':\n",
    "    app.run(debug=True, host=\"0.0.0.0\", port=8080,use_reloader=False)"
   ]
  },
  {
   "cell_type": "code",
   "execution_count": 4,
   "id": "af639f89750616a9",
   "metadata": {
    "jupyter": {
     "is_executing": true
    }
   },
   "outputs": [],
   "source": [
    "neoConnection.delete_all_links_and_nodes()\n",
    "neoConnection.close()"
   ]
  }
 ],
 "metadata": {
  "kernelspec": {
   "display_name": "Python 3",
   "language": "python",
   "name": "python3"
  },
  "language_info": {
   "codemirror_mode": {
    "name": "ipython",
    "version": 3
   },
   "file_extension": ".py",
   "mimetype": "text/x-python",
   "name": "python",
   "nbconvert_exporter": "python",
   "pygments_lexer": "ipython3",
   "version": "3.12.7"
  }
 },
 "nbformat": 4,
 "nbformat_minor": 5
}
