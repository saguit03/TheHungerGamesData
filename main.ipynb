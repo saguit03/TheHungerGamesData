{
 "cells": [
  {
   "cell_type": "code",
   "execution_count": 5,
   "id": "bce727f8",
   "metadata": {
    "ExecuteTime": {
     "end_time": "2025-05-13T17:21:00.088729Z",
     "start_time": "2025-05-13T17:20:58.936246Z"
    }
   },
   "outputs": [],
   "source": [
    "from OperacionesCSV import importar_CSV\n",
    "from Neo4HungerGames import Neo4HungerGames\n",
    "from Neo4Dataframes import Neo4Dataframes\n",
    "import pandas as pd\n",
    "from flask import Flask, render_template, request\n",
    "from Controller import Controller"
   ]
  },
  {
   "cell_type": "code",
   "execution_count": 6,
   "id": "e4bf7b97",
   "metadata": {
    "ExecuteTime": {
     "end_time": "2025-05-13T17:21:00.095559Z",
     "start_time": "2025-05-13T17:21:00.090540Z"
    }
   },
   "outputs": [],
   "source": [
    "uri = \"bolt://localhost:7687\"\n",
    "user = \"mdad\"\n",
    "password = \"123456789\"\n",
    "neoConnection = Neo4HungerGames(uri, user, password)"
   ]
  },
  {
   "cell_type": "code",
   "execution_count": 4,
   "id": "af7a102f",
   "metadata": {
    "ExecuteTime": {
     "end_time": "2025-05-13T17:21:09.578790Z",
     "start_time": "2025-05-13T17:21:00.096634Z"
    }
   },
   "outputs": [
    {
     "name": "stdout",
     "output_type": "stream",
     "text": [
      "--------------------------------------------\n"
     ]
    }
   ],
   "source": [
    "ruta_csv='HungerGames_Characters_Dataset_ALL.csv'\n",
    "\n",
    "hgDF = importar_CSV(ruta_csv)\n",
    "hgDF['ID'] = hgDF.index\n",
    "dataConnection = Neo4Dataframes(uri, user, password)\n",
    "dataConnection.create_nodes_links_from_df(hgDF)\n",
    "dataConnection.close()"
   ]
  },
  {
   "cell_type": "code",
   "execution_count": 7,
   "id": "e6baea37",
   "metadata": {
    "ExecuteTime": {
     "end_time": "2025-05-13T17:21:09.591482Z",
     "start_time": "2025-05-13T17:21:09.580302Z"
    }
   },
   "outputs": [],
   "source": [
    "app = Flask(__name__)\n",
    "\n",
    "# Ruta principal\n",
    "@app.route('/')\n",
    "def home():\n",
    "    return render_template('index.html')\n",
    "\n",
    "@app.route('/characters', methods=['GET'])\n",
    "def characters():\n",
    "    districts = neoConnection.get_all_districts()\n",
    "    return render_template('characters.html', districts=districts)\n",
    "\n",
    "@app.route('/characters/all', methods=['GET'])\n",
    "def all_characters():\n",
    "    characters = neoConnection.get_all_characters()\n",
    "    return render_template('characters_list.html', characters=characters)\n",
    "\n",
    "@app.route('/characters/create', methods=['POST'])\n",
    "def create_character():\n",
    "    return Controller.create_character(neoConnection, request=request)\n",
    "\n",
    "@app.route(\"/characters/link_game\", methods=[\"GET\", \"POST\"])\n",
    "def link_character_game():\n",
    "    return Controller.link_character_game(neoConnection, request=request)\n",
    "\n",
    "@app.route(\"/characters/update/<int:character_id>\", methods=[\"GET\"])\n",
    "def edit_character_form(character_id):\n",
    "    character = neoConnection.get_character_by_id(character_id)\n",
    "    return render_template(\"update_character.html\", character=character, character_id=character_id)\n",
    "\n",
    "@app.route(\"/characters/update/<int:character_id>\", methods=[\"POST\"])\n",
    "def update_character(character_id):\n",
    "    return Controller.update_character(neoConnection, request, character_id)\n",
    "\n",
    "@app.route(\"/characters/delete\", methods=[\"POST\"])\n",
    "def delete_character():\n",
    "    return Controller.delete_character(neoConnection, request)\n",
    "\n",
    "@app.route(\"/characters/delete/<character_id>\", methods=[\"POST\"])\n",
    "def delete_character_by_id(character_id):\n",
    "    return Controller.delete_character_by_id(neoConnection, character_id)\n",
    "\n",
    "@app.route(\"/characters/link_family\", methods=[\"GET\"])\n",
    "def show_family_link_form():\n",
    "    characters = neoConnection.get_all_characters_id_and_name()\n",
    "    return render_template(\"link_family.html\", characters=characters)\n",
    "\n",
    "@app.route(\"/characters/link_family\", methods=[\"POST\"])\n",
    "def create_family_link():\n",
    "    return Controller.create_family_link(neoConnection, request)\n",
    "\n",
    "@app.route(\"/characters/family/all\")\n",
    "def get_all_family_links():\n",
    "    return Controller.get_all_family_links(neoConnection)\n",
    "\n",
    "@app.route(\"/characters/family/delete\", methods=[\"POST\"])\n",
    "def delete_family_link():\n",
    "    return Controller.delete_family_link(neoConnection, request.form)\n",
    "\n",
    "@app.route(\"/links\", methods=[\"GET\"])\n",
    "def list_links():\n",
    "    return Controller.list_links(neoConnection)\n",
    "\n",
    "@app.route(\"/links/delete\", methods=[\"POST\"])\n",
    "def delete_link():\n",
    "    return Controller.delete_link(neoConnection, request.form)\n"
   ]
  },
  {
   "cell_type": "code",
   "execution_count": null,
   "id": "1729c2d7",
   "metadata": {
    "ExecuteTime": {
     "start_time": "2025-05-13T17:21:09.593507Z"
    },
    "jupyter": {
     "is_executing": true
    }
   },
   "outputs": [
    {
     "name": "stdout",
     "output_type": "stream",
     "text": [
      " * Serving Flask app '__main__'\n",
      " * Debug mode: on\n"
     ]
    },
    {
     "name": "stderr",
     "output_type": "stream",
     "text": [
      "WARNING: This is a development server. Do not use it in a production deployment. Use a production WSGI server instead.\n",
      " * Running on all addresses (0.0.0.0)\n",
      " * Running on http://127.0.0.1:8080\n",
      " * Running on http://192.168.1.38:8080\n",
      "Press CTRL+C to quit\n",
      "127.0.0.1 - - [14/May/2025 01:19:17] \"GET / HTTP/1.1\" 200 -\n",
      "127.0.0.1 - - [14/May/2025 01:19:18] \"GET /static/style.css HTTP/1.1\" 304 -\n",
      "127.0.0.1 - - [14/May/2025 01:19:21] \"GET /characters/family/all HTTP/1.1\" 200 -\n",
      "127.0.0.1 - - [14/May/2025 01:19:21] \"GET /static/list.css HTTP/1.1\" 200 -\n",
      "127.0.0.1 - - [14/May/2025 01:19:23] \"GET /links HTTP/1.1\" 500 -\n",
      "Traceback (most recent call last):\n",
      "  File \"c:\\Users\\sarag\\anaconda3\\Lib\\site-packages\\flask\\app.py\", line 1498, in __call__\n",
      "    return self.wsgi_app(environ, start_response)\n",
      "           ^^^^^^^^^^^^^^^^^^^^^^^^^^^^^^^^^^^^^^\n",
      "  File \"c:\\Users\\sarag\\anaconda3\\Lib\\site-packages\\flask\\app.py\", line 1476, in wsgi_app\n",
      "    response = self.handle_exception(e)\n",
      "               ^^^^^^^^^^^^^^^^^^^^^^^^\n",
      "  File \"c:\\Users\\sarag\\anaconda3\\Lib\\site-packages\\flask\\app.py\", line 1473, in wsgi_app\n",
      "    response = self.full_dispatch_request()\n",
      "               ^^^^^^^^^^^^^^^^^^^^^^^^^^^^\n",
      "  File \"c:\\Users\\sarag\\anaconda3\\Lib\\site-packages\\flask\\app.py\", line 882, in full_dispatch_request\n",
      "    rv = self.handle_user_exception(e)\n",
      "         ^^^^^^^^^^^^^^^^^^^^^^^^^^^^^\n",
      "  File \"c:\\Users\\sarag\\anaconda3\\Lib\\site-packages\\flask\\app.py\", line 880, in full_dispatch_request\n",
      "    rv = self.dispatch_request()\n",
      "         ^^^^^^^^^^^^^^^^^^^^^^^\n",
      "  File \"c:\\Users\\sarag\\anaconda3\\Lib\\site-packages\\flask\\app.py\", line 865, in dispatch_request\n",
      "    return self.ensure_sync(self.view_functions[rule.endpoint])(**view_args)  # type: ignore[no-any-return]\n",
      "           ^^^^^^^^^^^^^^^^^^^^^^^^^^^^^^^^^^^^^^^^^^^^^^^^^^^^^^^^^^^^^^^^^^^^^^^^^^^^^^^^^^^^^^^^^^^^^^^^\n",
      "  File \"C:\\Users\\sarag\\AppData\\Local\\Temp\\ipykernel_14504\\3083620511.py\", line 62, in list_links\n",
      "    return Controller.list_links(neoConnection)\n",
      "           ^^^^^^^^^^^^^^^^^^^^^^^^^^^^^^^^^^^^\n",
      "  File \"c:\\Users\\sarag\\Documents\\GitHub\\TheHungerGamesData\\Controller.py\", line 139, in list_links\n",
      "    return render_template(\"links_list.html\", links=links)\n",
      "           ^^^^^^^^^^^^^^^^^^^^^^^^^^^^^^^^^^^^^^^^^^^^^^^\n",
      "  File \"c:\\Users\\sarag\\anaconda3\\Lib\\site-packages\\flask\\templating.py\", line 149, in render_template\n",
      "    template = app.jinja_env.get_or_select_template(template_name_or_list)\n",
      "               ^^^^^^^^^^^^^^^^^^^^^^^^^^^^^^^^^^^^^^^^^^^^^^^^^^^^^^^^^^^\n",
      "  File \"c:\\Users\\sarag\\anaconda3\\Lib\\site-packages\\jinja2\\environment.py\", line 1084, in get_or_select_template\n",
      "    return self.get_template(template_name_or_list, parent, globals)\n",
      "           ^^^^^^^^^^^^^^^^^^^^^^^^^^^^^^^^^^^^^^^^^^^^^^^^^^^^^^^^^\n",
      "  File \"c:\\Users\\sarag\\anaconda3\\Lib\\site-packages\\jinja2\\environment.py\", line 1013, in get_template\n",
      "    return self._load_template(name, globals)\n",
      "           ^^^^^^^^^^^^^^^^^^^^^^^^^^^^^^^^^^\n",
      "  File \"c:\\Users\\sarag\\anaconda3\\Lib\\site-packages\\jinja2\\environment.py\", line 972, in _load_template\n",
      "    template = self.loader.load(self, name, self.make_globals(globals))\n",
      "               ^^^^^^^^^^^^^^^^^^^^^^^^^^^^^^^^^^^^^^^^^^^^^^^^^^^^^^^^\n",
      "  File \"c:\\Users\\sarag\\anaconda3\\Lib\\site-packages\\jinja2\\loaders.py\", line 138, in load\n",
      "    code = environment.compile(source, name, filename)\n",
      "           ^^^^^^^^^^^^^^^^^^^^^^^^^^^^^^^^^^^^^^^^^^^\n",
      "  File \"c:\\Users\\sarag\\anaconda3\\Lib\\site-packages\\jinja2\\environment.py\", line 768, in compile\n",
      "    self.handle_exception(source=source_hint)\n",
      "  File \"c:\\Users\\sarag\\anaconda3\\Lib\\site-packages\\jinja2\\environment.py\", line 939, in handle_exception\n",
      "    raise rewrite_traceback_stack(source=source)\n",
      "  File \"c:\\Users\\sarag\\Documents\\GitHub\\TheHungerGamesData\\templates\\links_list.html\", line 29, in template\n",
      "    {% else %}\n",
      "jinja2.exceptions.TemplateSyntaxError: Encountered unknown tag 'else'. Jinja was looking for the following tags: 'endif'. The innermost block that needs to be closed is 'if'.\n",
      "127.0.0.1 - - [14/May/2025 01:19:23] \"GET /links?__debugger__=yes&cmd=resource&f=style.css HTTP/1.1\" 200 -\n",
      "127.0.0.1 - - [14/May/2025 01:19:23] \"GET /links?__debugger__=yes&cmd=resource&f=debugger.js HTTP/1.1\" 200 -\n",
      "127.0.0.1 - - [14/May/2025 01:19:23] \"GET /links?__debugger__=yes&cmd=resource&f=console.png HTTP/1.1\" 200 -\n",
      "127.0.0.1 - - [14/May/2025 01:19:23] \"GET /links?__debugger__=yes&cmd=resource&f=console.png HTTP/1.1\" 304 -\n",
      "127.0.0.1 - - [14/May/2025 01:19:34] \"GET /links HTTP/1.1\" 200 -\n",
      "127.0.0.1 - - [14/May/2025 01:19:34] \"GET /static/list.css HTTP/1.1\" 304 -\n",
      "127.0.0.1 - - [14/May/2025 01:20:01] \"GET /links HTTP/1.1\" 200 -\n",
      "127.0.0.1 - - [14/May/2025 01:20:01] \"GET /static/list.css HTTP/1.1\" 304 -\n",
      "127.0.0.1 - - [14/May/2025 01:20:07] \"GET /links HTTP/1.1\" 200 -\n",
      "127.0.0.1 - - [14/May/2025 01:20:07] \"GET /static/list.css HTTP/1.1\" 304 -\n",
      "127.0.0.1 - - [14/May/2025 01:20:08] \"GET /links HTTP/1.1\" 200 -\n",
      "127.0.0.1 - - [14/May/2025 01:20:08] \"GET /static/list.css HTTP/1.1\" 304 -\n",
      "127.0.0.1 - - [14/May/2025 01:20:17] \"GET /links HTTP/1.1\" 200 -\n",
      "127.0.0.1 - - [14/May/2025 01:20:17] \"GET /static/list.css HTTP/1.1\" 304 -\n",
      "127.0.0.1 - - [14/May/2025 01:20:37] \"GET /links HTTP/1.1\" 200 -\n",
      "127.0.0.1 - - [14/May/2025 01:20:37] \"GET /static/list.css HTTP/1.1\" 304 -\n",
      "127.0.0.1 - - [14/May/2025 01:21:09] \"GET /links HTTP/1.1\" 200 -\n",
      "127.0.0.1 - - [14/May/2025 01:21:09] \"GET /static/list.css HTTP/1.1\" 304 -\n",
      "127.0.0.1 - - [14/May/2025 01:21:52] \"GET /characters HTTP/1.1\" 200 -\n",
      "127.0.0.1 - - [14/May/2025 01:21:52] \"GET /static/style.css HTTP/1.1\" 304 -\n",
      "127.0.0.1 - - [14/May/2025 01:21:59] \"GET /characters HTTP/1.1\" 200 -\n",
      "127.0.0.1 - - [14/May/2025 01:21:59] \"GET /static/style.css HTTP/1.1\" 304 -\n",
      "127.0.0.1 - - [14/May/2025 01:22:07] \"GET /characters/all HTTP/1.1\" 200 -\n",
      "127.0.0.1 - - [14/May/2025 01:22:07] \"GET /static/list.css HTTP/1.1\" 304 -\n",
      "127.0.0.1 - - [14/May/2025 01:22:12] \"GET /links HTTP/1.1\" 200 -\n",
      "127.0.0.1 - - [14/May/2025 01:22:12] \"GET /static/list.css HTTP/1.1\" 304 -\n",
      "127.0.0.1 - - [14/May/2025 01:22:17] \"GET /characters/family/all HTTP/1.1\" 200 -\n",
      "127.0.0.1 - - [14/May/2025 01:22:17] \"GET /static/list.css HTTP/1.1\" 304 -\n"
     ]
    }
   ],
   "source": [
    "if __name__ == '__main__':\n",
    "    app.run(debug=True, host=\"0.0.0.0\", port=8080,use_reloader=False)"
   ]
  },
  {
   "cell_type": "code",
   "execution_count": 3,
   "id": "af639f89750616a9",
   "metadata": {
    "jupyter": {
     "is_executing": true
    }
   },
   "outputs": [],
   "source": [
    "neoConnection.delete_all_links_and_nodes()\n",
    "neoConnection.close()"
   ]
  }
 ],
 "metadata": {
  "kernelspec": {
   "display_name": "Python 3",
   "language": "python",
   "name": "python3"
  },
  "language_info": {
   "codemirror_mode": {
    "name": "ipython",
    "version": 3
   },
   "file_extension": ".py",
   "mimetype": "text/x-python",
   "name": "python",
   "nbconvert_exporter": "python",
   "pygments_lexer": "ipython3",
   "version": "3.12.7"
  }
 },
 "nbformat": 4,
 "nbformat_minor": 5
}
