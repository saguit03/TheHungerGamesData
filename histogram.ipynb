{
 "cells": [
  {
   "cell_type": "code",
   "execution_count": null,
   "id": "cc9e60f1",
   "metadata": {},
   "outputs": [],
   "source": [
    "from OperacionesCSV import importar_CSV\n",
    "from Neo4HungerGames import Neo4HungerGames\n",
    "from Neo4Dataframes import Neo4Dataframes\n",
    "import pandas as pd\n",
    "import matplotlib.pyplot as plt\n",
    "from flask import Flask, render_template, request\n",
    "from Controller import Controller"
   ]
  },
  {
   "cell_type": "code",
   "execution_count": null,
   "id": "d1f9134e",
   "metadata": {},
   "outputs": [],
   "source": [
    "ruta_csv='HungerGames_Characters_Dataset_ALL.csv'\n",
    "\n",
    "hgDF = importar_CSV(ruta_csv)\n",
    "hgDF['ID'] = hgDF.index"
   ]
  },
  {
   "cell_type": "code",
   "execution_count": null,
   "id": "1857f03b",
   "metadata": {},
   "outputs": [],
   "source": [
    "# Personajes por libro\n",
    "\n",
    "def char_per_book(df):\n",
    "    all_books = df['Appearance'].dropna().apply(lambda x: [book.strip() for book in x.split(',')])\n",
    "\n",
    "    book_counts = all_books.explode().value_counts()\n",
    "    for books in all_books:\n",
    "        book_counts.update(books)\n",
    "\n",
    "    conteo = pd.Series(book_counts).sort_values(ascending=False)\n",
    "\n",
    "    plt.figure(figsize=(8, 8))\n",
    "    conteo.plot(\n",
    "        kind='pie',\n",
    "        autopct='%1.1f%%',\n",
    "        startangle=90,\n",
    "        colors=plt.cm.Paired.colors,\n",
    "        wedgeprops={'edgecolor': 'black'}\n",
    "    )\n",
    "    plt.title('Distribución de personajes por libro')\n",
    "    plt.ylabel('')  # Oculta la etiqueta del eje Y\n",
    "    plt.tight_layout()\n",
    "    plt.show()\n",
    "\n",
    "# Personajes por distrito\n",
    "\n",
    "def char_per_district(df):\n",
    "    district_count = df['District'].dropna().astype(str).value_counts().sort_index()\n",
    "\n",
    "    plt.figure(figsize=(8, 8))\n",
    "    district_count.plot(\n",
    "        kind='pie',\n",
    "        autopct='%1.1f%%',\n",
    "        startangle=90,\n",
    "        colors=plt.cm.Paired.colors,\n",
    "        wedgeprops={'edgecolor': 'black'}\n",
    "    )\n",
    "    plt.title('Distribución de personajes por distrito')\n",
    "    plt.ylabel('')  # Oculta la etiqueta del eje Y\n",
    "    plt.tight_layout()\n",
    "    plt.show()\n",
    "\n",
    "# Personajes por alianza\n",
    "\n",
    "def char_per_alliance(df):\n",
    "    all_alliances = df['Alliance'].dropna().apply(lambda x: [alliance.strip() for alliance in x.split(',')])\n",
    "\n",
    "    alliance_count = all_alliances.explode().value_counts()\n",
    "    for alliances in all_alliances:\n",
    "        alliance_count.update(alliances)\n",
    "\n",
    "    conteo = pd.Series(alliance_count).sort_values(ascending=False)\n",
    "\n",
    "    plt.figure(figsize=(10, 6))\n",
    "    conteo.plot(kind='bar', color='skyblue', edgecolor='black')\n",
    "    plt.title('Número de personajes por alianza')\n",
    "    plt.xlabel('Alianza')\n",
    "    plt.ylabel('Personajes aliados')\n",
    "    plt.xticks(rotation=45, ha='right')\n",
    "    plt.tight_layout()\n",
    "    plt.show()\n",
    "\n",
    "# Personajes por juego\n",
    "def char_per_game(df):\n",
    "    tribute = df['Tribute'].str.contains(\"Reaped\", case=False, na=False)\n",
    "    mentor = df['Tribute'].str.contains(\"Mentor\", case=False, na=False)\n",
    "    participants = df[tribute | mentor]\n",
    "\n",
    "    years = participants['Game_Year'].dropna().astype(str).apply(lambda x: [int(y.strip()) for y in x.split(',')])\n",
    "\n",
    "    all_years = years.explode().value_counts()\n",
    "    for year_list in years:\n",
    "        all_years.update(year_list)\n",
    "\n",
    "    game_count = all_years[all_years > 1].sort_values(ascending=False)\n",
    "\n",
    "    plt.figure(figsize=(10, 6))\n",
    "    game_count.plot(kind='bar', color='lightgreen', edgecolor='black')\n",
    "    plt.title('Número de personajes por Juego del Hambre')\n",
    "    plt.xlabel('Año del Juego')\n",
    "    plt.ylabel('Cantidad de personajes')\n",
    "    plt.xticks(rotation=0)\n",
    "    plt.tight_layout()\n",
    "    plt.show()\n",
    "\n",
    "# Muertes por personaje/causa de muerte\n",
    "def deaths_per_character(df):\n",
    "    deaths = df['Killed by'].dropna().astype(str).value_counts().sort_values(ascending=False)\n",
    "\n",
    "    plt.figure(figsize=(10, 6))\n",
    "    deaths.plot(kind='bar', color='lightcoral', edgecolor='black')\n",
    "    plt.title('Número de muertes por personaje')\n",
    "    plt.xlabel('Personaje')\n",
    "    plt.ylabel('Cantidad de muertes')\n",
    "    plt.xticks(rotation=45, ha='right')\n",
    "    plt.tight_layout()\n",
    "    plt.show()\n"
   ]
  },
  {
   "cell_type": "code",
   "execution_count": null,
   "id": "b744aaca",
   "metadata": {},
   "outputs": [],
   "source": [
    "char_per_book(hgDF)"
   ]
  },
  {
   "cell_type": "code",
   "execution_count": null,
   "id": "c499c2c8",
   "metadata": {},
   "outputs": [],
   "source": [
    "char_per_district(hgDF)"
   ]
  },
  {
   "cell_type": "code",
   "execution_count": null,
   "id": "1c30d746",
   "metadata": {},
   "outputs": [],
   "source": [
    "char_per_alliance(hgDF)"
   ]
  },
  {
   "cell_type": "code",
   "execution_count": null,
   "id": "bf504023",
   "metadata": {},
   "outputs": [],
   "source": [
    "char_per_game(hgDF)"
   ]
  },
  {
   "cell_type": "code",
   "execution_count": null,
   "id": "1ca52760",
   "metadata": {},
   "outputs": [],
   "source": [
    "deaths_per_character(hgDF)"
   ]
  }
 ],
 "metadata": {
  "kernelspec": {
   "display_name": "Python 3",
   "language": "python",
   "name": "python3"
  },
  "language_info": {
   "codemirror_mode": {
    "name": "ipython",
    "version": 3
   },
   "file_extension": ".py",
   "mimetype": "text/x-python",
   "name": "python",
   "nbconvert_exporter": "python",
   "pygments_lexer": "ipython3",
   "version": "3.12.6"
  }
 },
 "nbformat": 4,
 "nbformat_minor": 5
}
